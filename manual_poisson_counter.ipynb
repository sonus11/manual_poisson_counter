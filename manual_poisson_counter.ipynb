{
  "nbformat": 4,
  "nbformat_minor": 0,
  "metadata": {
    "colab": {
      "provenance": []
    },
    "kernelspec": {
      "name": "python3",
      "display_name": "Python 3"
    },
    "language_info": {
      "name": "python"
    }
  },
  "cells": [
    {
      "cell_type": "code",
      "execution_count": 2,
      "metadata": {
        "id": "WANUH4ETQzFq"
      },
      "outputs": [],
      "source": [
        "import numpy as np"
      ]
    },
    {
      "cell_type": "code",
      "source": [
        "\"\"\"target = np.exp(-float(input('Specify the average rate: ')))\n",
        "\n",
        "counter = 0\n",
        "curVal = 1\n",
        "\n",
        "def manual_poisson_counter(randomNum):\n",
        "  return randomNum * curVal\n",
        "\n",
        "while True:\n",
        "\n",
        "  curVal = manual_poisson_counter(np.random.rand())\n",
        "  counter += 1\n",
        "\n",
        "  if curVal < target:\n",
        "    break\n",
        "\n",
        "print(counter-1)\"\"\""
      ],
      "metadata": {
        "colab": {
          "base_uri": "https://localhost:8080/"
        },
        "id": "klZn0cTSRUhh",
        "outputId": "2a5460ea-79a6-43db-e43d-702baba6c550"
      },
      "execution_count": 50,
      "outputs": [
        {
          "output_type": "stream",
          "name": "stdout",
          "text": [
            "Specify the average rate: 15\n",
            "19\n"
          ]
        }
      ]
    },
    {
      "cell_type": "code",
      "source": [
        "#Poisson Counter longer term average\n",
        "\n",
        "\n",
        "\n",
        "counter = 0\n",
        "curVal = 1\n",
        "record = []\n",
        "\n",
        "def manual_poisson_counter(recordNumber, target):\n",
        "\n",
        "  global curVal\n",
        "  global counter\n",
        "  for i in range(recordNumber):\n",
        "\n",
        "    while True:\n",
        "\n",
        "      curVal *= np.random.rand()\n",
        "      counter += 1\n",
        "\n",
        "      if curVal < target:\n",
        "        break\n",
        "\n",
        "    record.append(counter-1)\n",
        "    curVal = 1\n",
        "    counter= 0\n",
        "\n",
        "target = np.exp(-float(input('Specify the average rate: ')))\n",
        "recordNumber = int(input('Enter the number of records you want to generate: '))\n",
        "manual_poisson_counter(recordNumber, target)\n",
        "print(f\"Average of {np.mean(np.array(record))} is achieved across {recordNumber} instances\")"
      ],
      "metadata": {
        "colab": {
          "base_uri": "https://localhost:8080/"
        },
        "id": "rUYIH53Ng8p0",
        "outputId": "99068dfd-df2b-4d81-cb60-aade5f8b124f"
      },
      "execution_count": 64,
      "outputs": [
        {
          "output_type": "stream",
          "name": "stdout",
          "text": [
            "Specify the average rate: 10\n",
            "Enter the number of records you want to generate: 2000\n",
            "Average of 9.915 is achieved across 2000 instances\n"
          ]
        }
      ]
    }
  ]
}